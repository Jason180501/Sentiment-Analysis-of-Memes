{
 "cells": [
  {
   "cell_type": "code",
   "execution_count": 250,
   "id": "ea546890-fb61-43d3-b2c3-54cd04e6c3ba",
   "metadata": {},
   "outputs": [],
   "source": [
    "import pandas as pd\n",
    "import os\n",
    "import shutil\n",
    "import torch\n",
    "import torch.nn as nn\n",
    "import torch.optim as optim\n",
    "from torch.utils.data import Dataset, DataLoader, random_split\n",
    "from transformers import RobertaTokenizer, RobertaForSequenceClassification\n",
    "from PIL import Image\n",
    "from torchvision import transforms"
   ]
  },
  {
   "cell_type": "code",
   "execution_count": 251,
   "id": "3d8ba592-0382-4605-8b05-c8ad4359e978",
   "metadata": {},
   "outputs": [
    {
     "name": "stdout",
     "output_type": "stream",
     "text": [
      "Using device: cpu\n"
     ]
    }
   ],
   "source": [
    "# Check for GPU\n",
    "device = torch.device(\"cuda\" if torch.cuda.is_available() else \"cpu\")\n",
    "print(f\"Using device: {device}\")"
   ]
  },
  {
   "cell_type": "code",
   "execution_count": 252,
   "id": "0b9d0451-884a-4d49-a26b-1a33948650c7",
   "metadata": {},
   "outputs": [
    {
     "name": "stdout",
     "output_type": "stream",
     "text": [
      "Dataset reduced to 699 samples. Images copied to Dataset/images/sampled_images/.\n"
     ]
    }
   ],
   "source": [
    "# Function to sample dataset and copy relevant images\n",
    "import shutil\n",
    "\n",
    "def sample_dataset_with_images(labels_csv, image_folder, output_folder, percentage=10):\n",
    "    \"\"\"\n",
    "    Samples a percentage of the dataset and copies corresponding images to a new folder.\n",
    "    \"\"\"\n",
    "    labels_df = pd.read_csv(labels_csv)\n",
    "    assert 0 < percentage <= 100, \"Percentage must be between 0 and 100\"\n",
    "    \n",
    "    sampled_df = labels_df.sample(frac=percentage / 100, random_state=42).reset_index(drop=True)\n",
    "    os.makedirs(output_folder, exist_ok=True)\n",
    "    \n",
    "    for image_name in sampled_df[\"image_name\"]:\n",
    "        src_path = os.path.join(image_folder, image_name)\n",
    "        dest_path = os.path.join(output_folder, image_name)\n",
    "        if os.path.exists(src_path):\n",
    "            shutil.copy(src_path, dest_path)\n",
    "    \n",
    "    print(f\"Dataset reduced to {len(sampled_df)} samples. Images copied to {output_folder}.\")\n",
    "    return sampled_df\n",
    "\n",
    "# Sample dataset\n",
    "sampled_df = sample_dataset_with_images(\"Dataset/labels.csv\", \"Dataset/images/images\", \"Dataset/images/sampled_images/\", percentage=10)\n",
    "sampled_df.to_csv(\"sampled_labels.csv\", index=False)"
   ]
  },
  {
   "cell_type": "code",
   "execution_count": 253,
   "id": "a446b308-8e6c-496f-851d-87761e4edbe4",
   "metadata": {},
   "outputs": [
    {
     "data": {
      "text/html": [
       "<div>\n",
       "<style scoped>\n",
       "    .dataframe tbody tr th:only-of-type {\n",
       "        vertical-align: middle;\n",
       "    }\n",
       "\n",
       "    .dataframe tbody tr th {\n",
       "        vertical-align: top;\n",
       "    }\n",
       "\n",
       "    .dataframe thead th {\n",
       "        text-align: right;\n",
       "    }\n",
       "</style>\n",
       "<table border=\"1\" class=\"dataframe\">\n",
       "  <thead>\n",
       "    <tr style=\"text-align: right;\">\n",
       "      <th></th>\n",
       "      <th>Unnamed: 0</th>\n",
       "      <th>image_name</th>\n",
       "      <th>text_ocr</th>\n",
       "      <th>text_corrected</th>\n",
       "      <th>overall_sentiment</th>\n",
       "    </tr>\n",
       "  </thead>\n",
       "  <tbody>\n",
       "    <tr>\n",
       "      <th>0</th>\n",
       "      <td>4498</td>\n",
       "      <td>image_4499.jpg</td>\n",
       "      <td>I once had a Lizard and a Fish as pets..</td>\n",
       "      <td>I once had a Lizard and a Fish as pets..</td>\n",
       "      <td>positive</td>\n",
       "    </tr>\n",
       "    <tr>\n",
       "      <th>1</th>\n",
       "      <td>3936</td>\n",
       "      <td>image_3937.jpeg</td>\n",
       "      <td>GOES TO SCHOOL WITH 15 POGS COMES HOME WITH 100</td>\n",
       "      <td>GOES TO SCHOOL WITH 15 POGS COMES HOME WITH 100</td>\n",
       "      <td>negative</td>\n",
       "    </tr>\n",
       "    <tr>\n",
       "      <th>2</th>\n",
       "      <td>5059</td>\n",
       "      <td>image_5060.jpg</td>\n",
       "      <td>MERICA wo FRENCH FRY HOLDER FUCK YEAH imgflip.com</td>\n",
       "      <td>MERICA FRENCH FRY HOLDER FUCK YEAH imgflip.com</td>\n",
       "      <td>positive</td>\n",
       "    </tr>\n",
       "    <tr>\n",
       "      <th>3</th>\n",
       "      <td>1379</td>\n",
       "      <td>image_1380.jpg</td>\n",
       "      <td>3x02 GAANOTHSCENES You know what's weird. Dona...</td>\n",
       "      <td>3x02 GAANOTHSCENES You know what's weird. Dona...</td>\n",
       "      <td>positive</td>\n",
       "    </tr>\n",
       "    <tr>\n",
       "      <th>4</th>\n",
       "      <td>3870</td>\n",
       "      <td>image_3871.png</td>\n",
       "      <td>@NFL_MEMES EACH SPORT HAS IT'S GREATEST BUT HE...</td>\n",
       "      <td>@NFL_MEMES EACH SPORT HAS IT'S GREATEST BUT HE...</td>\n",
       "      <td>neutral</td>\n",
       "    </tr>\n",
       "    <tr>\n",
       "      <th>5</th>\n",
       "      <td>2118</td>\n",
       "      <td>image_2119.png</td>\n",
       "      <td>MY TEACHER ALWAYS SAID THAT IF YOU POINT AT SO...</td>\n",
       "      <td>MY TEACHER ALWAYS SAID THAT IF YOU POINT AT SO...</td>\n",
       "      <td>positive</td>\n",
       "    </tr>\n",
       "    <tr>\n",
       "      <th>6</th>\n",
       "      <td>1079</td>\n",
       "      <td>image_1080.jpg</td>\n",
       "      <td>CASH ME OUTSIDE HOW BOUT NO wake</td>\n",
       "      <td>CASH ME OUTSIDE HOW BOUT NO</td>\n",
       "      <td>positive</td>\n",
       "    </tr>\n",
       "    <tr>\n",
       "      <th>7</th>\n",
       "      <td>1561</td>\n",
       "      <td>image_1562.jpg</td>\n",
       "      <td>DO YOU KNOW WHAT THE T STANDS FOR IN \"MODEL T\"...</td>\n",
       "      <td>DO YOU KNOW WHAT THE T STANDS FOR IN \"MODEL T\"...</td>\n",
       "      <td>neutral</td>\n",
       "    </tr>\n",
       "    <tr>\n",
       "      <th>8</th>\n",
       "      <td>3891</td>\n",
       "      <td>image_3892.jpg</td>\n",
       "      <td>THIS APPLE IS SO RAW THAT STEVE JOBS WAS TRYIN...</td>\n",
       "      <td>THIS APPLE IS SO RAW THAT STEVE JOBS WAS TRYIN...</td>\n",
       "      <td>negative</td>\n",
       "    </tr>\n",
       "    <tr>\n",
       "      <th>9</th>\n",
       "      <td>2755</td>\n",
       "      <td>image_2756.jpg</td>\n",
       "      <td>WHEN YOU FINISH AN EXAM FIRST AND WONDER WTF O...</td>\n",
       "      <td>WHEN YOU FINISH AN EXAM FIRST AND WONDER WTF O...</td>\n",
       "      <td>positive</td>\n",
       "    </tr>\n",
       "  </tbody>\n",
       "</table>\n",
       "</div>"
      ],
      "text/plain": [
       "   Unnamed: 0       image_name  \\\n",
       "0        4498   image_4499.jpg   \n",
       "1        3936  image_3937.jpeg   \n",
       "2        5059   image_5060.jpg   \n",
       "3        1379   image_1380.jpg   \n",
       "4        3870   image_3871.png   \n",
       "5        2118   image_2119.png   \n",
       "6        1079   image_1080.jpg   \n",
       "7        1561   image_1562.jpg   \n",
       "8        3891   image_3892.jpg   \n",
       "9        2755   image_2756.jpg   \n",
       "\n",
       "                                            text_ocr  \\\n",
       "0           I once had a Lizard and a Fish as pets..   \n",
       "1    GOES TO SCHOOL WITH 15 POGS COMES HOME WITH 100   \n",
       "2  MERICA wo FRENCH FRY HOLDER FUCK YEAH imgflip.com   \n",
       "3  3x02 GAANOTHSCENES You know what's weird. Dona...   \n",
       "4  @NFL_MEMES EACH SPORT HAS IT'S GREATEST BUT HE...   \n",
       "5  MY TEACHER ALWAYS SAID THAT IF YOU POINT AT SO...   \n",
       "6                   CASH ME OUTSIDE HOW BOUT NO wake   \n",
       "7  DO YOU KNOW WHAT THE T STANDS FOR IN \"MODEL T\"...   \n",
       "8  THIS APPLE IS SO RAW THAT STEVE JOBS WAS TRYIN...   \n",
       "9  WHEN YOU FINISH AN EXAM FIRST AND WONDER WTF O...   \n",
       "\n",
       "                                      text_corrected overall_sentiment  \n",
       "0           I once had a Lizard and a Fish as pets..          positive  \n",
       "1    GOES TO SCHOOL WITH 15 POGS COMES HOME WITH 100          negative  \n",
       "2     MERICA FRENCH FRY HOLDER FUCK YEAH imgflip.com          positive  \n",
       "3  3x02 GAANOTHSCENES You know what's weird. Dona...          positive  \n",
       "4  @NFL_MEMES EACH SPORT HAS IT'S GREATEST BUT HE...           neutral  \n",
       "5  MY TEACHER ALWAYS SAID THAT IF YOU POINT AT SO...          positive  \n",
       "6                        CASH ME OUTSIDE HOW BOUT NO          positive  \n",
       "7  DO YOU KNOW WHAT THE T STANDS FOR IN \"MODEL T\"...           neutral  \n",
       "8  THIS APPLE IS SO RAW THAT STEVE JOBS WAS TRYIN...          negative  \n",
       "9  WHEN YOU FINISH AN EXAM FIRST AND WONDER WTF O...          positive  "
      ]
     },
     "execution_count": 253,
     "metadata": {},
     "output_type": "execute_result"
    }
   ],
   "source": [
    "# Load dataset\n",
    "# labels_df = pd.read_csv(\"Dataset/labels.csv\")\n",
    "sampled_df.head(10)\n"
   ]
  },
  {
   "cell_type": "code",
   "execution_count": 254,
   "id": "2de41772-a783-4580-a841-abcc864bf91d",
   "metadata": {},
   "outputs": [],
   "source": [
    "# Define sentiment mapping\n",
    "sentiment_map = {\n",
    "    \"very_negative\": 0,\n",
    "    \"negative\": 1,\n",
    "    \"neutral\": 2,\n",
    "    \"positive\": 3,\n",
    "    \"very_positive\": 4\n",
    "}\n",
    "sampled_df[\"sentiment_label\"] = labels_df[\"overall_sentiment\"].map(sentiment_map)"
   ]
  },
  {
   "cell_type": "code",
   "execution_count": 255,
   "id": "bfaab4f4-aa02-4a5a-88f2-38d57440490f",
   "metadata": {},
   "outputs": [
    {
     "name": "stdout",
     "output_type": "stream",
     "text": [
      "[4 3 2 1 0]\n"
     ]
    }
   ],
   "source": [
    "print(sampled_df[\"sentiment_label\"].unique())  # Should be [0, 1, 2, 3, 4]\n"
   ]
  },
  {
   "cell_type": "code",
   "execution_count": 256,
   "id": "c5df0b81-879d-40bf-9cc6-f43ccd3f0198",
   "metadata": {},
   "outputs": [],
   "source": [
    "sampled_df = sampled_df.dropna(subset=[\"sentiment_label\"])  # Remove NaN labels\n",
    "sampled_df[\"sentiment_label\"] = sampled_df[\"sentiment_label\"].astype(int)  # Convert to integer\n"
   ]
  },
  {
   "cell_type": "code",
   "execution_count": 257,
   "id": "a5874526-167a-4dce-b6e8-4540ea41828e",
   "metadata": {},
   "outputs": [
    {
     "name": "stdout",
     "output_type": "stream",
     "text": [
      "['positive' 'negative' 'neutral' 'very_positive' 'very_negative']\n"
     ]
    }
   ],
   "source": [
    "print(sampled_df[\"overall_sentiment\"].unique())\n"
   ]
  },
  {
   "cell_type": "code",
   "execution_count": 258,
   "id": "9847a97d-4f79-4245-bcbd-efbdda722f78",
   "metadata": {},
   "outputs": [
    {
     "name": "stdout",
     "output_type": "stream",
     "text": [
      "0\n",
      "text_corrected\n",
      "<class 'str'>    699\n",
      "Name: count, dtype: int64\n"
     ]
    }
   ],
   "source": [
    "print(sampled_df[\"text_corrected\"].isna().sum())  # Count NaN values\n",
    "print(sampled_df[\"text_corrected\"].apply(type).value_counts())  # Check data types\n"
   ]
  },
  {
   "cell_type": "code",
   "execution_count": 259,
   "id": "8fa4cfb5-5146-42d2-b96b-9e57ef4aa90f",
   "metadata": {},
   "outputs": [],
   "source": [
    "sampled_df[\"text_corrected\"] = sampled_df[\"text_corrected\"].fillna(\"\").astype(str)\n"
   ]
  },
  {
   "cell_type": "code",
   "execution_count": 260,
   "id": "dd7da791-1ae4-4c88-b214-7d261e7de9e7",
   "metadata": {},
   "outputs": [
    {
     "name": "stdout",
     "output_type": "stream",
     "text": [
      "Sample text: I once had a Lizard and a Fish as pets.. (Type: <class 'str'>)\n"
     ]
    }
   ],
   "source": [
    "sample_text = sampled_df.iloc[0][\"text_corrected\"]\n",
    "print(f\"Sample text: {sample_text} (Type: {type(sample_text)})\")\n"
   ]
  },
  {
   "cell_type": "code",
   "execution_count": 261,
   "id": "725f4b71-88c7-442f-9c26-d7c3c8fec8b8",
   "metadata": {},
   "outputs": [
    {
     "name": "stdout",
     "output_type": "stream",
     "text": [
      "0\n",
      "text_corrected\n",
      "<class 'str'>    699\n",
      "Name: count, dtype: int64\n"
     ]
    }
   ],
   "source": [
    "print(sampled_df[\"text_corrected\"].isna().sum())  # Count NaN values\n",
    "print(sampled_df[\"text_corrected\"].apply(type).value_counts())  # Check data types\n"
   ]
  },
  {
   "cell_type": "code",
   "execution_count": 262,
   "id": "470823e4-6a8a-4b23-9ffc-1fe9cb89bbdd",
   "metadata": {},
   "outputs": [],
   "source": [
    "# Initialize RoBERTa tokenizer\n",
    "tokenizer = RobertaTokenizer.from_pretrained(\"roberta-base\")\n"
   ]
  },
  {
   "cell_type": "code",
   "execution_count": 263,
   "id": "9e5b7e1b-6131-4c12-b711-32204cd64feb",
   "metadata": {},
   "outputs": [],
   "source": [
    "# Image transformation\n",
    "transform = transforms.Compose([\n",
    "    transforms.Resize((224, 224)),\n",
    "    transforms.ToTensor(),\n",
    "    transforms.Normalize([0.485, 0.456, 0.406], [0.229, 0.224, 0.225])\n",
    "])"
   ]
  },
  {
   "cell_type": "code",
   "execution_count": 264,
   "id": "d350194e-9411-4607-b7ce-cf07b5f0f83d",
   "metadata": {},
   "outputs": [],
   "source": [
    "# Custom dataset class\n",
    "class MemeDataset(Dataset):\n",
    "    def __init__(self, dataframe, image_folder, tokenizer, transform):\n",
    "        self.dataframe = dataframe\n",
    "        self.image_folder = image_folder\n",
    "        self.tokenizer = tokenizer\n",
    "        self.transform = transform\n",
    "\n",
    "    def __len__(self):\n",
    "        return len(self.dataframe)\n",
    "\n",
    "    def __getitem__(self, idx):\n",
    "        row = self.dataframe.iloc[idx]\n",
    "\n",
    "        # Text processing\n",
    "        text = row[\"text_corrected\"]\n",
    "        text_encoding = self.tokenizer(\n",
    "            text,\n",
    "            padding=\"max_length\",\n",
    "            max_length=128,\n",
    "            truncation=True,\n",
    "            return_tensors=\"pt\"\n",
    "        )\n",
    "\n",
    "        # Image processing\n",
    "        image_path = os.path.join(self.image_folder, row[\"image_name\"])\n",
    "        image = Image.open(image_path).convert(\"RGB\")\n",
    "        image = self.transform(image)\n",
    "\n",
    "        # Sentiment label\n",
    "        label = torch.tensor(row[\"sentiment_label\"], dtype=torch.long)\n",
    "\n",
    "        return {\n",
    "            \"input_ids\": text_encoding[\"input_ids\"].squeeze(0),\n",
    "            \"attention_mask\": text_encoding[\"attention_mask\"].squeeze(0),\n",
    "            \"image\": image,\n",
    "            \"label\": label\n",
    "        }\n"
   ]
  },
  {
   "cell_type": "code",
   "execution_count": 265,
   "id": "d0ba5337-278e-422d-a27d-b5991569b445",
   "metadata": {},
   "outputs": [
    {
     "data": {
      "text/plain": [
       "'image_folder = \"Dataset/images/images\"\\ndataset = MemeDataset(labels_df, image_folder, tokenizer, transform)\\ntrain_size = int(0.8 * len(dataset))\\nval_size = int(0.1 * len(dataset))\\ntest_size = len(dataset) - train_size - val_size\\ntrain_set, val_set, test_set = torch.utils.data.random_split(dataset, [train_size, val_size, test_size])\\n\\ntrain_loader = DataLoader(train_set, batch_size=16, shuffle=True)\\nval_loader = DataLoader(val_set, batch_size=16, shuffle=False)\\ntest_loader = DataLoader(test_set, batch_size=16, shuffle=False)\\n\\nprint(\"Dataset prepared! Moving to model definition...\")'"
      ]
     },
     "execution_count": 265,
     "metadata": {},
     "output_type": "execute_result"
    }
   ],
   "source": [
    "# Create dataset and dataloaders\n",
    "'''image_folder = \"Dataset/images/images\"\n",
    "dataset = MemeDataset(labels_df, image_folder, tokenizer, transform)\n",
    "train_size = int(0.8 * len(dataset))\n",
    "val_size = int(0.1 * len(dataset))\n",
    "test_size = len(dataset) - train_size - val_size\n",
    "train_set, val_set, test_set = torch.utils.data.random_split(dataset, [train_size, val_size, test_size])\n",
    "\n",
    "train_loader = DataLoader(train_set, batch_size=16, shuffle=True)\n",
    "val_loader = DataLoader(val_set, batch_size=16, shuffle=False)\n",
    "test_loader = DataLoader(test_set, batch_size=16, shuffle=False)\n",
    "\n",
    "print(\"Dataset prepared! Moving to model definition...\")'''\n"
   ]
  },
  {
   "cell_type": "code",
   "execution_count": 266,
   "id": "13668093-e4ae-4493-aad0-c344dbc0369e",
   "metadata": {},
   "outputs": [],
   "source": [
    "dataset = MemeDataset(sampled_df, \"Dataset/images/sampled_images/\", tokenizer, transform=transform)\n",
    "\n",
    "# Split dataset (80% train, 20% validation)\n",
    "train_size = int(0.8 * len(dataset))\n",
    "val_size = len(dataset) - train_size\n",
    "train_dataset, val_dataset = random_split(dataset, [train_size, val_size])\n",
    "\n",
    "# Create data loaders\n",
    "train_loader = DataLoader(train_dataset, batch_size=8, shuffle=True)\n",
    "val_loader = DataLoader(val_dataset, batch_size=8, shuffle=False)\n"
   ]
  },
  {
   "cell_type": "code",
   "execution_count": 267,
   "id": "22d8cbdc-a6f4-4a95-8f1f-d94cd29a9b8c",
   "metadata": {},
   "outputs": [],
   "source": [
    "# Define the Multimodal Model\n",
    "class MultimodalSentimentModel(nn.Module):\n",
    "    def __init__(self):\n",
    "        super(MultimodalSentimentModel, self).__init__()\n",
    "\n",
    "        # RoBERTa model for text\n",
    "        self.text_model = RobertaModel.from_pretrained(\"roberta-base\")\n",
    "        self.text_fc = nn.Linear(768, 256)  # Reduce dimensionality\n",
    "\n",
    "        # ResNet model for images\n",
    "        self.image_model = models.resnet18(pretrained=True)\n",
    "        self.image_model.fc = nn.Linear(512, 256)  # Modify output layer\n",
    "\n",
    "        # Fusion and classification layers\n",
    "        self.fusion_fc = nn.Linear(512, 128)\n",
    "        self.classifier = nn.Linear(128, 5)  # 5 sentiment classes\n",
    "        self.relu = nn.ReLU()\n",
    "        self.dropout = nn.Dropout(0.3)\n",
    "\n",
    "    def forward(self, input_ids, attention_mask, image):\n",
    "        # Text embedding\n",
    "        text_output = self.text_model(input_ids=input_ids, attention_mask=attention_mask)\n",
    "        text_embedding = self.text_fc(text_output.pooler_output)\n",
    "        text_embedding = self.relu(text_embedding)\n",
    "\n",
    "        # Image embedding\n",
    "        image_embedding = self.image_model(image)\n",
    "        image_embedding = self.relu(image_embedding)\n",
    "\n",
    "        # Fusion\n",
    "        fusion = torch.cat((text_embedding, image_embedding), dim=1)\n",
    "        fusion = self.fusion_fc(fusion)\n",
    "        fusion = self.relu(fusion)\n",
    "        fusion = self.dropout(fusion)\n",
    "\n",
    "        # Classification\n",
    "        output = self.classifier(fusion)\n",
    "        return output\n"
   ]
  },
  {
   "cell_type": "code",
   "execution_count": 268,
   "id": "3cb280f7-82bd-4e84-97ce-506977dd20b1",
   "metadata": {},
   "outputs": [
    {
     "name": "stderr",
     "output_type": "stream",
     "text": [
      "Some weights of RobertaModel were not initialized from the model checkpoint at roberta-base and are newly initialized: ['roberta.pooler.dense.bias', 'roberta.pooler.dense.weight']\n",
      "You should probably TRAIN this model on a down-stream task to be able to use it for predictions and inference.\n"
     ]
    },
    {
     "name": "stdout",
     "output_type": "stream",
     "text": [
      "Multimodal Model Defined!\n"
     ]
    },
    {
     "name": "stderr",
     "output_type": "stream",
     "text": [
      "C:\\Users\\Jason\\anaconda3\\Lib\\site-packages\\torchvision\\models\\_utils.py:208: UserWarning: The parameter 'pretrained' is deprecated since 0.13 and may be removed in the future, please use 'weights' instead.\n",
      "  warnings.warn(\n",
      "C:\\Users\\Jason\\anaconda3\\Lib\\site-packages\\torchvision\\models\\_utils.py:223: UserWarning: Arguments other than a weight enum or `None` for 'weights' are deprecated since 0.13 and may be removed in the future. The current behavior is equivalent to passing `weights=ResNet18_Weights.IMAGENET1K_V1`. You can also use `weights=ResNet18_Weights.DEFAULT` to get the most up-to-date weights.\n",
      "  warnings.warn(msg)\n"
     ]
    }
   ],
   "source": [
    "# Instantiate model and move to device\n",
    "model = MultimodalSentimentModel().to(device)\n",
    "print(\"Multimodal Model Defined!\")\n"
   ]
  },
  {
   "cell_type": "code",
   "execution_count": 269,
   "id": "671e68bf-b707-4b6f-8608-fc9e249ab62b",
   "metadata": {},
   "outputs": [],
   "source": [
    "# Define Loss and Optimizer\n",
    "criterion = nn.CrossEntropyLoss()\n",
    "optimizer = optim.Adam(model.parameters(), lr=2e-5)\n"
   ]
  },
  {
   "cell_type": "code",
   "execution_count": 270,
   "id": "206c30f1-74a8-40a3-bd33-ba3229b6254c",
   "metadata": {},
   "outputs": [],
   "source": [
    "# Training Function\n",
    "def train_model(model, train_loader, val_loader, criterion, optimizer, epochs=5):\n",
    "    model.train()\n",
    "    losses = [] \n",
    "    \n",
    "    for epoch in range(epochs):\n",
    "        total_loss, correct, total = 0, 0, 0\n",
    "        for batch in train_loader:\n",
    "            input_ids = batch[\"input_ids\"].to(device)\n",
    "            attention_mask = batch[\"attention_mask\"].to(device)\n",
    "            images = batch[\"image\"].to(device)\n",
    "            labels = batch[\"label\"].to(device)\n",
    "\n",
    "            optimizer.zero_grad()\n",
    "            outputs = model(input_ids, attention_mask, images)\n",
    "            loss = criterion(outputs, labels)\n",
    "            loss.backward()\n",
    "            optimizer.step()\n",
    "\n",
    "            total_loss += loss.item()\n",
    "            #print(loss)\n",
    "            preds = torch.argmax(outputs, dim=1)\n",
    "            correct += (preds == labels).sum().item()\n",
    "            total += labels.size(0)\n",
    "\n",
    "        train_acc = correct / total\n",
    "        avg_loss = total_loss / len(train_loader)\n",
    "        losses.append(avg_loss)\n",
    "        print(f\"Epoch {epoch+1}, Loss: {total_loss:.4f}, Train Accuracy: {train_acc:.4f}\")\n",
    "\n",
    "    plt.plot(range(1, epochs + 1), losses, marker='o', linestyle='-')\n",
    "    plt.xlabel(\"Epochs\")\n",
    "    plt.ylabel(\"Loss\")\n",
    "    plt.title(\"Training Loss Curve\")\n",
    "    plt.grid(True)\n",
    "    plt.show()\n"
   ]
  },
  {
   "cell_type": "code",
   "execution_count": 271,
   "id": "fe5b19ae-7da2-4ad9-a51b-32be2a5ad4c2",
   "metadata": {},
   "outputs": [],
   "source": [
    "# Validation Function\n",
    "def evaluate_model(model, loader):\n",
    "    model.eval()\n",
    "    correct, total = 0, 0\n",
    "    with torch.no_grad():\n",
    "        for batch in loader:\n",
    "            input_ids = batch[\"input_ids\"].to(device)\n",
    "            attention_mask = batch[\"attention_mask\"].to(device)\n",
    "            images = batch[\"image\"].to(device)\n",
    "            labels = batch[\"label\"].to(device)\n",
    "\n",
    "            outputs = model(input_ids, attention_mask, images)\n",
    "            preds = torch.argmax(outputs, dim=1)\n",
    "            correct += (preds == labels).sum().item()\n",
    "            total += labels.size(0)\n",
    "    return correct / total\n"
   ]
  },
  {
   "cell_type": "code",
   "execution_count": 272,
   "id": "74102b9e-a82a-47d7-b2d0-d041c6862d99",
   "metadata": {},
   "outputs": [
    {
     "name": "stdout",
     "output_type": "stream",
     "text": [
      "Epoch 1, Loss: 100.9839, Train Accuracy: 0.3936\n",
      "Epoch 2, Loss: 87.3008, Train Accuracy: 0.4741\n",
      "Epoch 3, Loss: 85.5248, Train Accuracy: 0.4812\n",
      "Epoch 4, Loss: 81.0350, Train Accuracy: 0.5152\n",
      "Epoch 5, Loss: 73.7232, Train Accuracy: 0.6047\n"
     ]
    },
    {
     "data": {
      "image/png": "[encoded data removed]",
      "text/plain": [
       "<Figure size 640x480 with 1 Axes>"
      ]
     },
     "metadata": {},
     "output_type": "display_data"
    },
    {
     "name": "stdout",
     "output_type": "stream",
     "text": [
      "Training Complete!\n"
     ]
    }
   ],
   "source": [
    "# Train the model\n",
    "train_model(model, train_loader, val_loader, criterion, optimizer, epochs=5)\n",
    "print(\"Training Complete!\")\n"
   ]
  },
  {
   "cell_type": "code",
   "execution_count": null,
   "id": "594510f9-df92-4070-8b6a-aecbf5b5715c",
   "metadata": {},
   "outputs": [
    {
     "name": "stderr",
     "output_type": "stream",
     "text": [
      "C:\\Users\\Jason\\anaconda3\\Lib\\site-packages\\PIL\\Image.py:1056: UserWarning: Palette images with Transparency expressed in bytes should be converted to RGBA images\n",
      "  warnings.warn(\n"
     ]
    }
   ],
   "source": [
    "from sklearn.metrics import accuracy_score, precision_recall_fscore_support\n",
    "\n",
    "def evaluate_model(model, loader):\n",
    "    model.eval()\n",
    "    all_preds = []\n",
    "    all_labels = []\n",
    "\n",
    "    with torch.no_grad():\n",
    "        for batch in loader:\n",
    "            input_ids = batch[\"input_ids\"].to(device)\n",
    "            attention_mask = batch[\"attention_mask\"].to(device)\n",
    "            images = batch[\"image\"].to(device)\n",
    "            labels = batch[\"label\"].to(device)\n",
    "\n",
    "            outputs = model(input_ids, attention_mask, images)\n",
    "            preds = torch.argmax(outputs, dim=1)\n",
    "\n",
    "            all_preds.extend(preds.cpu().numpy())  # Collect predictions\n",
    "            all_labels.extend(labels.cpu().numpy())  # Collect actual labels\n",
    "\n",
    "    # Compute metrics\n",
    "    accuracy = accuracy_score(all_labels, all_preds)\n",
    "    precision, recall, f1, _ = precision_recall_fscore_support(all_labels, all_preds, average='weighted')\n",
    "\n",
    "    return accuracy, precision, recall, f1\n",
    "\n",
    "\n",
    "test_accuracy, test_precision, test_recall, test_f1 = evaluate_model(model, test_loader)\n",
    "\n",
    "print(f\"Test Accuracy: {test_accuracy:.4f}\")\n",
    "print(f\"Test Precision: {test_precision:.4f}\")\n",
    "print(f\"Test Recall: {test_recall:.4f}\")\n",
    "print(f\"Test F1-Score: {test_f1:.4f}\")"
   ]
  },
  {
   "cell_type": "code",
   "execution_count": null,
   "id": "8845f782-e303-4185-a4d7-76e035a76e36",
   "metadata": {},
   "outputs": [],
   "source": []
  }
 ],
 "metadata": {
  "kernelspec": {
   "display_name": "Python 3 (ipykernel)",
   "language": "python",
   "name": "python3"
  },
  "language_info": {
   "codemirror_mode": {
    "name": "ipython",
    "version": 3
   },
   "file_extension": ".py",
   "mimetype": "text/x-python",
   "name": "python",
   "nbconvert_exporter": "python",
   "pygments_lexer": "ipython3",
   "version": "3.12.7"
  }
 },
 "nbformat": 4,
 "nbformat_minor": 5
}
