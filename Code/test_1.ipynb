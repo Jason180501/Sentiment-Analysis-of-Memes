{
 "cells": [
  {
   "cell_type": "code",
   "execution_count": 22,
   "metadata": {},
   "outputs": [],
   "source": [
    "import numpy as np\n",
    "import pandas as pd\n",
    "import matplotlib.pyplot as plt\n",
    "import tensorflow as tf\n",
    "from tensorflow.keras.preprocessing.text import Tokenizer\n",
    "from tensorflow.keras.preprocessing.sequence import pad_sequences\n",
    "from tensorflow.keras.applications import ResNet50\n",
    "from tensorflow.keras.layers import (Input, Dense, Dropout, Flatten, Conv2D, MaxPooling2D,\n",
    "                                     GlobalAveragePooling2D, Embedding, LSTM, Concatenate)\n",
    "from tensorflow.keras.models import Model, Sequential\n",
    "from tensorflow.keras.optimizers import RMSprop\n",
    "from sklearn.metrics import classification_report, confusion_matrix\n"
   ]
  },
  {
   "cell_type": "code",
   "execution_count": 24,
   "metadata": {},
   "outputs": [
    {
     "name": "stdout",
     "output_type": "stream",
     "text": [
      "Train shape: (5593, 6)\n",
      "Test shape: (1399, 6)\n"
     ]
    }
   ],
   "source": [
    "# Load Dataset\n",
    "data = pd.read_csv(\"Dataset/labels.csv\")\n",
    "\n",
    "# Encode sentiment labels\n",
    "label_map = {'negative': 0, 'neutral': 1, 'positive': 2, 'very_negative': 3, 'very_positive': 4}\n",
    "data['enc_label'] = data['overall_sentiment'].map(label_map)\n",
    "\n",
    "# Split Train and Test\n",
    "from sklearn.model_selection import train_test_split\n",
    "\n",
    "train_data, test_data = train_test_split(data, test_size=0.2, stratify=data['enc_label'], random_state=42)\n",
    "print(\"Train shape:\", train_data.shape)\n",
    "print(\"Test shape:\", test_data.shape)\n"
   ]
  },
  {
   "cell_type": "code",
   "execution_count": 25,
   "metadata": {},
   "outputs": [
    {
     "name": "stderr",
     "output_type": "stream",
     "text": [
      "c:\\Users\\Urvi\\Documents\\sem2\\nlp\\nlp_ven\\.venv\\Lib\\site-packages\\PIL\\Image.py:1045: UserWarning: Palette images with Transparency expressed in bytes should be converted to RGBA images\n",
      "  warnings.warn(\n"
     ]
    },
    {
     "name": "stdout",
     "output_type": "stream",
     "text": [
      "Train Image shape: (5592, 224, 224, 3)\n",
      "Test Image shape: (1399, 224, 224, 3)\n",
      "\u001b[1m175/175\u001b[0m \u001b[32m━━━━━━━━━━━━━━━━━━━━\u001b[0m\u001b[37m\u001b[0m \u001b[1m110s\u001b[0m 618ms/step\n",
      "\u001b[1m44/44\u001b[0m \u001b[32m━━━━━━━━━━━━━━━━━━━━\u001b[0m\u001b[37m\u001b[0m \u001b[1m26s\u001b[0m 580ms/step\n",
      "ResNet Embedding shapes: (5592, 2048) (1399, 2048)\n"
     ]
    }
   ],
   "source": [
    "from tensorflow.keras.applications.resnet50 import ResNet50, preprocess_input\n",
    "from tensorflow.keras.preprocessing.image import load_img, img_to_array\n",
    "from tensorflow.keras.models import Model\n",
    "import numpy as np\n",
    "import os\n",
    "\n",
    "# Image Paths\n",
    "image_dir = \"Dataset/images/images\"\n",
    "train_paths = [os.path.join(image_dir, name) for name in train_data['image_name']]\n",
    "test_paths = [os.path.join(image_dir, name) for name in test_data['image_name']]\n",
    "\n",
    "# Load & Preprocess images\n",
    "def load_images(image_paths):\n",
    "    images = []\n",
    "    for path in image_paths:\n",
    "        try:\n",
    "            img = load_img(path, target_size=(224, 224))\n",
    "            img = img_to_array(img)\n",
    "            img = preprocess_input(img)\n",
    "            images.append(img)\n",
    "        except:\n",
    "            continue\n",
    "    return np.array(images)\n",
    "\n",
    "X_train_img = load_images(train_paths)\n",
    "X_test_img = load_images(test_paths)\n",
    "\n",
    "print(\"Train Image shape:\", X_train_img.shape)\n",
    "print(\"Test Image shape:\", X_test_img.shape)\n",
    "\n",
    "# Load Pretrained ResNet50 Model\n",
    "resnet_model = ResNet50(weights='imagenet', include_top=False, input_shape=(224, 224, 3))\n",
    "resnet_output = GlobalAveragePooling2D()(resnet_model.output)\n",
    "resnet_feature_model = Model(inputs=resnet_model.input, outputs=resnet_output)\n",
    "\n",
    "# Extract Image Embeddings\n",
    "resnet_train_embed = resnet_feature_model.predict(X_train_img, batch_size=32, verbose=1)\n",
    "resnet_test_embed = resnet_feature_model.predict(X_test_img, batch_size=32, verbose=1)\n",
    "\n",
    "print(\"ResNet Embedding shapes:\", resnet_train_embed.shape, resnet_test_embed.shape)\n"
   ]
  },
  {
   "cell_type": "code",
   "execution_count": 26,
   "metadata": {},
   "outputs": [
    {
     "name": "stderr",
     "output_type": "stream",
     "text": [
      "c:\\Users\\Urvi\\Documents\\sem2\\nlp\\nlp_ven\\.venv\\Lib\\site-packages\\keras\\src\\layers\\convolutional\\base_conv.py:107: UserWarning: Do not pass an `input_shape`/`input_dim` argument to a layer. When using Sequential models, prefer using an `Input(shape)` object as the first layer in the model instead.\n",
      "  super().__init__(activity_regularizer=activity_regularizer, **kwargs)\n"
     ]
    },
    {
     "name": "stdout",
     "output_type": "stream",
     "text": [
      "\u001b[1m175/175\u001b[0m \u001b[32m━━━━━━━━━━━━━━━━━━━━\u001b[0m\u001b[37m\u001b[0m \u001b[1m13s\u001b[0m 69ms/step\n",
      "\u001b[1m44/44\u001b[0m \u001b[32m━━━━━━━━━━━━━━━━━━━━\u001b[0m\u001b[37m\u001b[0m \u001b[1m3s\u001b[0m 65ms/step\n",
      "CNN Embedding shapes: (5592, 256) (1399, 256)\n"
     ]
    }
   ],
   "source": [
    "from tensorflow.keras.layers import Conv2D, MaxPooling2D, Flatten, Dense, Dropout\n",
    "from tensorflow.keras.models import Sequential\n",
    "\n",
    "# Build CNN Model\n",
    "def build_cnn_model():\n",
    "    cnn = Sequential()\n",
    "    cnn.add(Conv2D(32, (3, 3), activation='relu', input_shape=(224, 224, 3)))\n",
    "    cnn.add(MaxPooling2D((2, 2)))\n",
    "    cnn.add(Conv2D(64, (3, 3), activation='relu'))\n",
    "    cnn.add(MaxPooling2D((2, 2)))\n",
    "    cnn.add(Conv2D(128, (3, 3), activation='relu'))\n",
    "    cnn.add(MaxPooling2D((2, 2)))\n",
    "    cnn.add(Flatten())\n",
    "    cnn.add(Dense(256, activation='relu'))\n",
    "    cnn.add(Dropout(0.3))\n",
    "    return cnn\n",
    "\n",
    "cnn_model = build_cnn_model()\n",
    "\n",
    "# Extract CNN Features\n",
    "cnn_input = Input(shape=(224, 224, 3))\n",
    "cnn_features = cnn_model(cnn_input)\n",
    "cnn_feature_model = Model(inputs=cnn_input, outputs=cnn_features)\n",
    "\n",
    "cnn_train_embed = cnn_feature_model.predict(X_train_img, batch_size=32, verbose=1)\n",
    "cnn_test_embed = cnn_feature_model.predict(X_test_img, batch_size=32, verbose=1)\n",
    "\n",
    "print(\"CNN Embedding shapes:\", cnn_train_embed.shape, cnn_test_embed.shape)\n"
   ]
  },
  {
   "cell_type": "code",
   "execution_count": 27,
   "metadata": {},
   "outputs": [
    {
     "name": "stdout",
     "output_type": "stream",
     "text": [
      "Train text shape: (5588, 60)\n",
      "Test text shape: (1399, 60)\n",
      "Vocab size: 11583\n"
     ]
    }
   ],
   "source": [
    "from tensorflow.keras.preprocessing.text import Tokenizer\n",
    "from tensorflow.keras.preprocessing.sequence import pad_sequences\n",
    "\n",
    "# Drop missing text rows & ensure text is string\n",
    "train_data = train_data.dropna(subset=['text_corrected'])\n",
    "test_data = test_data.dropna(subset=['text_corrected'])\n",
    "train_data['text_corrected'] = train_data['text_corrected'].astype(str)\n",
    "test_data['text_corrected'] = test_data['text_corrected'].astype(str)\n",
    "\n",
    "# Tokenizer Function\n",
    "def text_tokenizer(train_data, test_data, vocabulary, max_len):\n",
    "    tokenizer = Tokenizer(num_words=vocabulary, oov_token='<OOV>')\n",
    "    tokenizer.fit_on_texts(train_data['text_corrected'])\n",
    "    \n",
    "    train_seq = tokenizer.texts_to_sequences(train_data['text_corrected'])\n",
    "    train_pad = pad_sequences(train_seq, maxlen=max_len, padding='post')\n",
    "    \n",
    "    test_seq = tokenizer.texts_to_sequences(test_data['text_corrected'])\n",
    "    test_pad = pad_sequences(test_seq, maxlen=max_len, padding='post')\n",
    "    \n",
    "    vocab_size = len(tokenizer.word_index) + 1\n",
    "    return train_pad, test_pad, vocab_size, tokenizer.word_index\n",
    "\n",
    "# Parameters\n",
    "vocabulary = 15000\n",
    "max_len = 60\n",
    "\n",
    "# Apply Tokenizer\n",
    "train_pad_seq, test_pad_seq, vocab_size, word_index = text_tokenizer(train_data, test_data, vocabulary, max_len)\n",
    "\n",
    "print(\"Train text shape:\", train_pad_seq.shape)\n",
    "print(\"Test text shape:\", test_pad_seq.shape)\n",
    "print(\"Vocab size:\", vocab_size)\n"
   ]
  },
  {
   "cell_type": "code",
   "execution_count": 28,
   "metadata": {},
   "outputs": [
    {
     "name": "stderr",
     "output_type": "stream",
     "text": [
      "c:\\Users\\Urvi\\Documents\\sem2\\nlp\\nlp_ven\\.venv\\Lib\\site-packages\\keras\\src\\layers\\core\\embedding.py:90: UserWarning: Argument `input_length` is deprecated. Just remove it.\n",
      "  warnings.warn(\n"
     ]
    },
    {
     "data": {
      "text/html": [
       "<pre style=\"white-space:pre;overflow-x:auto;line-height:normal;font-family:Menlo,'DejaVu Sans Mono',consolas,'Courier New',monospace\"><span style=\"font-weight: bold\">Model: \"functional_39\"</span>\n",
       "</pre>\n"
      ],
      "text/plain": [
       "\u001b[1mModel: \"functional_39\"\u001b[0m\n"
      ]
     },
     "metadata": {},
     "output_type": "display_data"
    },
    {
     "data": {
      "text/html": [
       "<pre style=\"white-space:pre;overflow-x:auto;line-height:normal;font-family:Menlo,'DejaVu Sans Mono',consolas,'Courier New',monospace\">┏━━━━━━━━━━━━━━━━━━━━━┳━━━━━━━━━━━━━━━━━━━┳━━━━━━━━━━━━┳━━━━━━━━━━━━━━━━━━━┓\n",
       "┃<span style=\"font-weight: bold\"> Layer (type)        </span>┃<span style=\"font-weight: bold\"> Output Shape      </span>┃<span style=\"font-weight: bold\">    Param # </span>┃<span style=\"font-weight: bold\"> Connected to      </span>┃\n",
       "┡━━━━━━━━━━━━━━━━━━━━━╇━━━━━━━━━━━━━━━━━━━╇━━━━━━━━━━━━╇━━━━━━━━━━━━━━━━━━━┩\n",
       "│ input_layer_15      │ (<span style=\"color: #00d7ff; text-decoration-color: #00d7ff\">None</span>, <span style=\"color: #00af00; text-decoration-color: #00af00\">60</span>)        │          <span style=\"color: #00af00; text-decoration-color: #00af00\">0</span> │ -                 │\n",
       "│ (<span style=\"color: #0087ff; text-decoration-color: #0087ff\">InputLayer</span>)        │                   │            │                   │\n",
       "├─────────────────────┼───────────────────┼────────────┼───────────────────┤\n",
       "│ embedding_1         │ (<span style=\"color: #00d7ff; text-decoration-color: #00d7ff\">None</span>, <span style=\"color: #00af00; text-decoration-color: #00af00\">60</span>, <span style=\"color: #00af00; text-decoration-color: #00af00\">128</span>)   │  <span style=\"color: #00af00; text-decoration-color: #00af00\">1,482,624</span> │ input_layer_15[<span style=\"color: #00af00; text-decoration-color: #00af00\">0</span>… │\n",
       "│ (<span style=\"color: #0087ff; text-decoration-color: #0087ff\">Embedding</span>)         │                   │            │                   │\n",
       "├─────────────────────┼───────────────────┼────────────┼───────────────────┤\n",
       "│ input_layer_13      │ (<span style=\"color: #00d7ff; text-decoration-color: #00d7ff\">None</span>, <span style=\"color: #00af00; text-decoration-color: #00af00\">2048</span>)      │          <span style=\"color: #00af00; text-decoration-color: #00af00\">0</span> │ -                 │\n",
       "│ (<span style=\"color: #0087ff; text-decoration-color: #0087ff\">InputLayer</span>)        │                   │            │                   │\n",
       "├─────────────────────┼───────────────────┼────────────┼───────────────────┤\n",
       "│ input_layer_14      │ (<span style=\"color: #00d7ff; text-decoration-color: #00d7ff\">None</span>, <span style=\"color: #00af00; text-decoration-color: #00af00\">256</span>)       │          <span style=\"color: #00af00; text-decoration-color: #00af00\">0</span> │ -                 │\n",
       "│ (<span style=\"color: #0087ff; text-decoration-color: #0087ff\">InputLayer</span>)        │                   │            │                   │\n",
       "├─────────────────────┼───────────────────┼────────────┼───────────────────┤\n",
       "│ lstm_1 (<span style=\"color: #0087ff; text-decoration-color: #0087ff\">LSTM</span>)       │ (<span style=\"color: #00d7ff; text-decoration-color: #00d7ff\">None</span>, <span style=\"color: #00af00; text-decoration-color: #00af00\">128</span>)       │    <span style=\"color: #00af00; text-decoration-color: #00af00\">131,584</span> │ embedding_1[<span style=\"color: #00af00; text-decoration-color: #00af00\">0</span>][<span style=\"color: #00af00; text-decoration-color: #00af00\">0</span>] │\n",
       "├─────────────────────┼───────────────────┼────────────┼───────────────────┤\n",
       "│ concatenate_1       │ (<span style=\"color: #00d7ff; text-decoration-color: #00d7ff\">None</span>, <span style=\"color: #00af00; text-decoration-color: #00af00\">2432</span>)      │          <span style=\"color: #00af00; text-decoration-color: #00af00\">0</span> │ input_layer_13[<span style=\"color: #00af00; text-decoration-color: #00af00\">0</span>… │\n",
       "│ (<span style=\"color: #0087ff; text-decoration-color: #0087ff\">Concatenate</span>)       │                   │            │ input_layer_14[<span style=\"color: #00af00; text-decoration-color: #00af00\">0</span>… │\n",
       "│                     │                   │            │ lstm_1[<span style=\"color: #00af00; text-decoration-color: #00af00\">0</span>][<span style=\"color: #00af00; text-decoration-color: #00af00\">0</span>]      │\n",
       "├─────────────────────┼───────────────────┼────────────┼───────────────────┤\n",
       "│ dense_6 (<span style=\"color: #0087ff; text-decoration-color: #0087ff\">Dense</span>)     │ (<span style=\"color: #00d7ff; text-decoration-color: #00d7ff\">None</span>, <span style=\"color: #00af00; text-decoration-color: #00af00\">256</span>)       │    <span style=\"color: #00af00; text-decoration-color: #00af00\">622,848</span> │ concatenate_1[<span style=\"color: #00af00; text-decoration-color: #00af00\">0</span>]… │\n",
       "├─────────────────────┼───────────────────┼────────────┼───────────────────┤\n",
       "│ dropout_5 (<span style=\"color: #0087ff; text-decoration-color: #0087ff\">Dropout</span>) │ (<span style=\"color: #00d7ff; text-decoration-color: #00d7ff\">None</span>, <span style=\"color: #00af00; text-decoration-color: #00af00\">256</span>)       │          <span style=\"color: #00af00; text-decoration-color: #00af00\">0</span> │ dense_6[<span style=\"color: #00af00; text-decoration-color: #00af00\">0</span>][<span style=\"color: #00af00; text-decoration-color: #00af00\">0</span>]     │\n",
       "├─────────────────────┼───────────────────┼────────────┼───────────────────┤\n",
       "│ dense_7 (<span style=\"color: #0087ff; text-decoration-color: #0087ff\">Dense</span>)     │ (<span style=\"color: #00d7ff; text-decoration-color: #00d7ff\">None</span>, <span style=\"color: #00af00; text-decoration-color: #00af00\">5</span>)         │      <span style=\"color: #00af00; text-decoration-color: #00af00\">1,285</span> │ dropout_5[<span style=\"color: #00af00; text-decoration-color: #00af00\">0</span>][<span style=\"color: #00af00; text-decoration-color: #00af00\">0</span>]   │\n",
       "└─────────────────────┴───────────────────┴────────────┴───────────────────┘\n",
       "</pre>\n"
      ],
      "text/plain": [
       "┏━━━━━━━━━━━━━━━━━━━━━┳━━━━━━━━━━━━━━━━━━━┳━━━━━━━━━━━━┳━━━━━━━━━━━━━━━━━━━┓\n",
       "┃\u001b[1m \u001b[0m\u001b[1mLayer (type)       \u001b[0m\u001b[1m \u001b[0m┃\u001b[1m \u001b[0m\u001b[1mOutput Shape     \u001b[0m\u001b[1m \u001b[0m┃\u001b[1m \u001b[0m\u001b[1m   Param #\u001b[0m\u001b[1m \u001b[0m┃\u001b[1m \u001b[0m\u001b[1mConnected to     \u001b[0m\u001b[1m \u001b[0m┃\n",
       "┡━━━━━━━━━━━━━━━━━━━━━╇━━━━━━━━━━━━━━━━━━━╇━━━━━━━━━━━━╇━━━━━━━━━━━━━━━━━━━┩\n",
       "│ input_layer_15      │ (\u001b[38;5;45mNone\u001b[0m, \u001b[38;5;34m60\u001b[0m)        │          \u001b[38;5;34m0\u001b[0m │ -                 │\n",
       "│ (\u001b[38;5;33mInputLayer\u001b[0m)        │                   │            │                   │\n",
       "├─────────────────────┼───────────────────┼────────────┼───────────────────┤\n",
       "│ embedding_1         │ (\u001b[38;5;45mNone\u001b[0m, \u001b[38;5;34m60\u001b[0m, \u001b[38;5;34m128\u001b[0m)   │  \u001b[38;5;34m1,482,624\u001b[0m │ input_layer_15[\u001b[38;5;34m0\u001b[0m… │\n",
       "│ (\u001b[38;5;33mEmbedding\u001b[0m)         │                   │            │                   │\n",
       "├─────────────────────┼───────────────────┼────────────┼───────────────────┤\n",
       "│ input_layer_13      │ (\u001b[38;5;45mNone\u001b[0m, \u001b[38;5;34m2048\u001b[0m)      │          \u001b[38;5;34m0\u001b[0m │ -                 │\n",
       "│ (\u001b[38;5;33mInputLayer\u001b[0m)        │                   │            │                   │\n",
       "├─────────────────────┼───────────────────┼────────────┼───────────────────┤\n",
       "│ input_layer_14      │ (\u001b[38;5;45mNone\u001b[0m, \u001b[38;5;34m256\u001b[0m)       │          \u001b[38;5;34m0\u001b[0m │ -                 │\n",
       "│ (\u001b[38;5;33mInputLayer\u001b[0m)        │                   │            │                   │\n",
       "├─────────────────────┼───────────────────┼────────────┼───────────────────┤\n",
       "│ lstm_1 (\u001b[38;5;33mLSTM\u001b[0m)       │ (\u001b[38;5;45mNone\u001b[0m, \u001b[38;5;34m128\u001b[0m)       │    \u001b[38;5;34m131,584\u001b[0m │ embedding_1[\u001b[38;5;34m0\u001b[0m][\u001b[38;5;34m0\u001b[0m] │\n",
       "├─────────────────────┼───────────────────┼────────────┼───────────────────┤\n",
       "│ concatenate_1       │ (\u001b[38;5;45mNone\u001b[0m, \u001b[38;5;34m2432\u001b[0m)      │          \u001b[38;5;34m0\u001b[0m │ input_layer_13[\u001b[38;5;34m0\u001b[0m… │\n",
       "│ (\u001b[38;5;33mConcatenate\u001b[0m)       │                   │            │ input_layer_14[\u001b[38;5;34m0\u001b[0m… │\n",
       "│                     │                   │            │ lstm_1[\u001b[38;5;34m0\u001b[0m][\u001b[38;5;34m0\u001b[0m]      │\n",
       "├─────────────────────┼───────────────────┼────────────┼───────────────────┤\n",
       "│ dense_6 (\u001b[38;5;33mDense\u001b[0m)     │ (\u001b[38;5;45mNone\u001b[0m, \u001b[38;5;34m256\u001b[0m)       │    \u001b[38;5;34m622,848\u001b[0m │ concatenate_1[\u001b[38;5;34m0\u001b[0m]… │\n",
       "├─────────────────────┼───────────────────┼────────────┼───────────────────┤\n",
       "│ dropout_5 (\u001b[38;5;33mDropout\u001b[0m) │ (\u001b[38;5;45mNone\u001b[0m, \u001b[38;5;34m256\u001b[0m)       │          \u001b[38;5;34m0\u001b[0m │ dense_6[\u001b[38;5;34m0\u001b[0m][\u001b[38;5;34m0\u001b[0m]     │\n",
       "├─────────────────────┼───────────────────┼────────────┼───────────────────┤\n",
       "│ dense_7 (\u001b[38;5;33mDense\u001b[0m)     │ (\u001b[38;5;45mNone\u001b[0m, \u001b[38;5;34m5\u001b[0m)         │      \u001b[38;5;34m1,285\u001b[0m │ dropout_5[\u001b[38;5;34m0\u001b[0m][\u001b[38;5;34m0\u001b[0m]   │\n",
       "└─────────────────────┴───────────────────┴────────────┴───────────────────┘\n"
      ]
     },
     "metadata": {},
     "output_type": "display_data"
    },
    {
     "data": {
      "text/html": [
       "<pre style=\"white-space:pre;overflow-x:auto;line-height:normal;font-family:Menlo,'DejaVu Sans Mono',consolas,'Courier New',monospace\"><span style=\"font-weight: bold\"> Total params: </span><span style=\"color: #00af00; text-decoration-color: #00af00\">2,238,341</span> (8.54 MB)\n",
       "</pre>\n"
      ],
      "text/plain": [
       "\u001b[1m Total params: \u001b[0m\u001b[38;5;34m2,238,341\u001b[0m (8.54 MB)\n"
      ]
     },
     "metadata": {},
     "output_type": "display_data"
    },
    {
     "data": {
      "text/html": [
       "<pre style=\"white-space:pre;overflow-x:auto;line-height:normal;font-family:Menlo,'DejaVu Sans Mono',consolas,'Courier New',monospace\"><span style=\"font-weight: bold\"> Trainable params: </span><span style=\"color: #00af00; text-decoration-color: #00af00\">2,238,341</span> (8.54 MB)\n",
       "</pre>\n"
      ],
      "text/plain": [
       "\u001b[1m Trainable params: \u001b[0m\u001b[38;5;34m2,238,341\u001b[0m (8.54 MB)\n"
      ]
     },
     "metadata": {},
     "output_type": "display_data"
    },
    {
     "data": {
      "text/html": [
       "<pre style=\"white-space:pre;overflow-x:auto;line-height:normal;font-family:Menlo,'DejaVu Sans Mono',consolas,'Courier New',monospace\"><span style=\"font-weight: bold\"> Non-trainable params: </span><span style=\"color: #00af00; text-decoration-color: #00af00\">0</span> (0.00 B)\n",
       "</pre>\n"
      ],
      "text/plain": [
       "\u001b[1m Non-trainable params: \u001b[0m\u001b[38;5;34m0\u001b[0m (0.00 B)\n"
      ]
     },
     "metadata": {},
     "output_type": "display_data"
    }
   ],
   "source": [
    "from tensorflow.keras.layers import Input, Concatenate, Dense, Dropout, Embedding, LSTM\n",
    "from tensorflow.keras.models import Model\n",
    "\n",
    "# Define Inputs\n",
    "resnet_input = Input(shape=(2048,))  # ResNet embedding shape\n",
    "cnn_input = Input(shape=(256,))      # CNN embedding shape\n",
    "text_input = Input(shape=(60,))      # Padded sequence length\n",
    "\n",
    "# Text Embedding + LSTM\n",
    "text_embedding = Embedding(input_dim=vocab_size, output_dim=128, input_length=60)(text_input)\n",
    "text_lstm = LSTM(128)(text_embedding)\n",
    "\n",
    "# Concatenate All\n",
    "fusion = Concatenate()([resnet_input, cnn_input, text_lstm])\n",
    "x = Dense(256, activation='relu')(fusion)\n",
    "x = Dropout(0.3)(x)\n",
    "output = Dense(5, activation='softmax')(x)\n",
    "\n",
    "# Model\n",
    "multi_modal_model = Model(inputs=[resnet_input, cnn_input, text_input], outputs=output)\n",
    "multi_modal_model.summary()\n",
    "\n",
    "# Compile\n",
    "multi_modal_model.compile(loss='sparse_categorical_crossentropy',\n",
    "                          optimizer=RMSprop(learning_rate=1e-4),\n",
    "                          metrics=['accuracy'])\n"
   ]
  },
  {
   "cell_type": "code",
   "execution_count": 32,
   "metadata": {},
   "outputs": [
    {
     "name": "stdout",
     "output_type": "stream",
     "text": [
      "Epoch 1/10\n",
      "\u001b[1m158/158\u001b[0m \u001b[32m━━━━━━━━━━━━━━━━━━━━\u001b[0m\u001b[37m\u001b[0m \u001b[1m5s\u001b[0m 31ms/step - accuracy: 0.3861 - loss: 1.5898 - val_accuracy: 0.4186 - val_loss: 1.3809\n",
      "Epoch 2/10\n",
      "\u001b[1m158/158\u001b[0m \u001b[32m━━━━━━━━━━━━━━━━━━━━\u001b[0m\u001b[37m\u001b[0m \u001b[1m4s\u001b[0m 23ms/step - accuracy: 0.4190 - loss: 1.3478 - val_accuracy: 0.4186 - val_loss: 1.3757\n",
      "Epoch 3/10\n",
      "\u001b[1m158/158\u001b[0m \u001b[32m━━━━━━━━━━━━━━━━━━━━\u001b[0m\u001b[37m\u001b[0m \u001b[1m4s\u001b[0m 24ms/step - accuracy: 0.4404 - loss: 1.2929 - val_accuracy: 0.4275 - val_loss: 1.3524\n",
      "Epoch 4/10\n",
      "\u001b[1m158/158\u001b[0m \u001b[32m━━━━━━━━━━━━━━━━━━━━\u001b[0m\u001b[37m\u001b[0m \u001b[1m4s\u001b[0m 23ms/step - accuracy: 0.4598 - loss: 1.2469 - val_accuracy: 0.4132 - val_loss: 1.3632\n",
      "Epoch 5/10\n",
      "\u001b[1m158/158\u001b[0m \u001b[32m━━━━━━━━━━━━━━━━━━━━\u001b[0m\u001b[37m\u001b[0m \u001b[1m4s\u001b[0m 23ms/step - accuracy: 0.4698 - loss: 1.2302 - val_accuracy: 0.4329 - val_loss: 1.3949\n",
      "Epoch 6/10\n",
      "\u001b[1m158/158\u001b[0m \u001b[32m━━━━━━━━━━━━━━━━━━━━\u001b[0m\u001b[37m\u001b[0m \u001b[1m4s\u001b[0m 23ms/step - accuracy: 0.5080 - loss: 1.1905 - val_accuracy: 0.3846 - val_loss: 1.3945\n",
      "Epoch 7/10\n",
      "\u001b[1m158/158\u001b[0m \u001b[32m━━━━━━━━━━━━━━━━━━━━\u001b[0m\u001b[37m\u001b[0m \u001b[1m4s\u001b[0m 24ms/step - accuracy: 0.5179 - loss: 1.1527 - val_accuracy: 0.3900 - val_loss: 1.4007\n",
      "Epoch 8/10\n",
      "\u001b[1m158/158\u001b[0m \u001b[32m━━━━━━━━━━━━━━━━━━━━\u001b[0m\u001b[37m\u001b[0m \u001b[1m4s\u001b[0m 23ms/step - accuracy: 0.5352 - loss: 1.1148 - val_accuracy: 0.3846 - val_loss: 1.4072\n",
      "Epoch 9/10\n",
      "\u001b[1m158/158\u001b[0m \u001b[32m━━━━━━━━━━━━━━━━━━━━\u001b[0m\u001b[37m\u001b[0m \u001b[1m4s\u001b[0m 23ms/step - accuracy: 0.5693 - loss: 1.0716 - val_accuracy: 0.4311 - val_loss: 1.4094\n",
      "Epoch 10/10\n",
      "\u001b[1m158/158\u001b[0m \u001b[32m━━━━━━━━━━━━━━━━━━━━\u001b[0m\u001b[37m\u001b[0m \u001b[1m4s\u001b[0m 22ms/step - accuracy: 0.5534 - loss: 1.0600 - val_accuracy: 0.4168 - val_loss: 1.4348\n",
      "\u001b[1m44/44\u001b[0m \u001b[32m━━━━━━━━━━━━━━━━━━━━\u001b[0m\u001b[37m\u001b[0m \u001b[1m0s\u001b[0m 9ms/step - accuracy: 0.4308 - loss: 1.3944\n",
      "\n",
      "Test Accuracy: 0.4217\n"
     ]
    }
   ],
   "source": [
    "# Align data - Drop NaNs in text and keep corresponding images\n",
    "train_data_clean = train_data.dropna(subset=['text_corrected']).reset_index(drop=True)\n",
    "test_data_clean = test_data.dropna(subset=['text_corrected']).reset_index(drop=True)\n",
    "\n",
    "# Prepare inputs again\n",
    "y_train = train_data_clean['enc_label'].values\n",
    "y_test = test_data_clean['enc_label'].values\n",
    "\n",
    "# Filter embeddings\n",
    "resnet_train_embed_clean = resnet_train_embed[:len(train_data_clean)]\n",
    "cnn_train_embed_clean = cnn_train_embed[:len(train_data_clean)]\n",
    "train_pad_seq_clean = train_pad_seq[:len(train_data_clean)]\n",
    "\n",
    "resnet_test_embed_clean = resnet_test_embed[:len(test_data_clean)]\n",
    "cnn_test_embed_clean = cnn_test_embed[:len(test_data_clean)]\n",
    "test_pad_seq_clean = test_pad_seq[:len(test_data_clean)]\n",
    "\n",
    "# Train Model\n",
    "history = multi_modal_model.fit([resnet_train_embed_clean, cnn_train_embed_clean, train_pad_seq_clean],\n",
    "                                y_train,\n",
    "                                epochs=10,\n",
    "                                batch_size=32,\n",
    "                                validation_split=0.1,\n",
    "                                verbose=1)\n",
    "\n",
    "# Evaluate on Test\n",
    "loss, acc = multi_modal_model.evaluate([resnet_test_embed_clean, cnn_test_embed_clean, test_pad_seq_clean], y_test, verbose=1)\n",
    "print(f\"\\nTest Accuracy: {acc:.4f}\")\n"
   ]
  },
  {
   "cell_type": "code",
   "execution_count": 33,
   "metadata": {},
   "outputs": [
    {
     "name": "stdout",
     "output_type": "stream",
     "text": [
      "\u001b[1m44/44\u001b[0m \u001b[32m━━━━━━━━━━━━━━━━━━━━\u001b[0m\u001b[37m\u001b[0m \u001b[1m1s\u001b[0m 16ms/step\n",
      "\n",
      "Classification Report:\n",
      "\n",
      "              precision    recall  f1-score   support\n",
      "\n",
      "           0       0.00      0.00      0.00        96\n",
      "           1       0.34      0.29      0.31       440\n",
      "           2       0.46      0.73      0.56       626\n",
      "           3       0.00      0.00      0.00        30\n",
      "           4       0.18      0.02      0.03       207\n",
      "\n",
      "    accuracy                           0.42      1399\n",
      "   macro avg       0.20      0.21      0.18      1399\n",
      "weighted avg       0.34      0.42      0.36      1399\n",
      "\n"
     ]
    },
    {
     "name": "stderr",
     "output_type": "stream",
     "text": [
      "c:\\Users\\Urvi\\Documents\\sem2\\nlp\\nlp_ven\\.venv\\Lib\\site-packages\\sklearn\\metrics\\_classification.py:1565: UndefinedMetricWarning: Precision is ill-defined and being set to 0.0 in labels with no predicted samples. Use `zero_division` parameter to control this behavior.\n",
      "  _warn_prf(average, modifier, f\"{metric.capitalize()} is\", len(result))\n",
      "c:\\Users\\Urvi\\Documents\\sem2\\nlp\\nlp_ven\\.venv\\Lib\\site-packages\\sklearn\\metrics\\_classification.py:1565: UndefinedMetricWarning: Precision is ill-defined and being set to 0.0 in labels with no predicted samples. Use `zero_division` parameter to control this behavior.\n",
      "  _warn_prf(average, modifier, f\"{metric.capitalize()} is\", len(result))\n",
      "c:\\Users\\Urvi\\Documents\\sem2\\nlp\\nlp_ven\\.venv\\Lib\\site-packages\\sklearn\\metrics\\_classification.py:1565: UndefinedMetricWarning: Precision is ill-defined and being set to 0.0 in labels with no predicted samples. Use `zero_division` parameter to control this behavior.\n",
      "  _warn_prf(average, modifier, f\"{metric.capitalize()} is\", len(result))\n"
     ]
    },
    {
     "data": {
      "image/png": "[encoded data removed]",
      "text/plain": [
       "<Figure size 800x600 with 2 Axes>"
      ]
     },
     "metadata": {},
     "output_type": "display_data"
    }
   ],
   "source": [
    "from sklearn.metrics import classification_report, confusion_matrix\n",
    "import seaborn as sns\n",
    "import matplotlib.pyplot as plt\n",
    "\n",
    "# Predictions\n",
    "y_pred = multi_modal_model.predict([resnet_test_embed, cnn_test_embed, test_pad_seq])\n",
    "y_pred_classes = np.argmax(y_pred, axis=1)\n",
    "\n",
    "# Classification Report\n",
    "print(\"\\nClassification Report:\\n\")\n",
    "print(classification_report(y_test, y_pred_classes))\n",
    "\n",
    "# Confusion Matrix\n",
    "cm = confusion_matrix(y_test, y_pred_classes)\n",
    "plt.figure(figsize=(8, 6))\n",
    "sns.heatmap(cm, annot=True, fmt='d', cmap='Blues', xticklabels=label_map.keys(), yticklabels=label_map.keys())\n",
    "plt.title('Confusion Matrix')\n",
    "plt.ylabel('Actual')\n",
    "plt.xlabel('Predicted')\n",
    "plt.show()\n"
   ]
  }
 ],
 "metadata": {
  "kernelspec": {
   "display_name": ".venv",
   "language": "python",
   "name": "python3"
  },
  "language_info": {
   "codemirror_mode": {
    "name": "ipython",
    "version": 3
   },
   "file_extension": ".py",
   "mimetype": "text/x-python",
   "name": "python",
   "nbconvert_exporter": "python",
   "pygments_lexer": "ipython3",
   "version": "3.12.9"
  }
 },
 "nbformat": 4,
 "nbformat_minor": 2
}
